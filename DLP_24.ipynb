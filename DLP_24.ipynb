{
  "cells": [
    {
      "cell_type": "markdown",
      "metadata": {
        "id": "view-in-github",
        "colab_type": "text"
      },
      "source": [
        "<a href=\"https://colab.research.google.com/github/deepshikhaa07/Facial-Emotion-Recognition-Using-Deep-Learning/blob/main/DLP_24.ipynb\" target=\"_parent\"><img src=\"https://colab.research.google.com/assets/colab-badge.svg\" alt=\"Open In Colab\"/></a>"
      ]
    },
    {
      "cell_type": "markdown",
      "source": [
        "## Import dataset\n",
        "\n"
      ],
      "metadata": {
        "id": "kpG0jZLJ8CE0"
      },
      "id": "kpG0jZLJ8CE0"
    },
    {
      "cell_type": "code",
      "source": [
        "import zipfile\n",
        "import os\n",
        "\n",
        "with zipfile.ZipFile(\"fer2013.zip\", 'r') as zip_ref:\n",
        "    zip_ref.extractall(\"fer2013\")\n",
        "\n",
        "# Set directory paths\n",
        "train_dir = \"fer2013/train\"\n",
        "test_dir = \"fer2013/test\""
      ],
      "metadata": {
        "id": "woPZ9PMBAdqV"
      },
      "id": "woPZ9PMBAdqV",
      "execution_count": null,
      "outputs": []
    },
    {
      "cell_type": "markdown",
      "source": [
        "## Data processing"
      ],
      "metadata": {
        "id": "sQWx1PXZ8Nl4"
      },
      "id": "sQWx1PXZ8Nl4"
    },
    {
      "cell_type": "code",
      "execution_count": null,
      "id": "367cb3c8",
      "metadata": {
        "id": "367cb3c8"
      },
      "outputs": [],
      "source": [
        "from tensorflow.keras.preprocessing.image import ImageDataGenerator\n",
        "\n",
        "img_size = 48\n",
        "batch_size = 64\n",
        "\n",
        "# Grayscale generators for Basic CNN\n",
        "gray_train_gen = ImageDataGenerator(rescale=1./255, rotation_range=15, zoom_range=0.2, horizontal_flip=True)\n",
        "gray_test_gen = ImageDataGenerator(rescale=1./255)\n",
        "\n",
        "gray_train_data = gray_train_gen.flow_from_directory(\n",
        "    train_dir, target_size=(img_size, img_size), color_mode='grayscale',\n",
        "    batch_size=batch_size, class_mode='categorical', shuffle=True)\n",
        "\n",
        "gray_test_data = gray_test_gen.flow_from_directory(\n",
        "    test_dir, target_size=(img_size, img_size), color_mode='grayscale',\n",
        "    batch_size=batch_size, class_mode='categorical', shuffle=False)\n",
        "\n",
        "# RGB generators for pretrained models\n",
        "rgb_train_data = gray_train_gen.flow_from_directory(\n",
        "    train_dir, target_size=(img_size, img_size), color_mode='rgb',\n",
        "    batch_size=batch_size, class_mode='categorical', shuffle=True)\n",
        "\n",
        "rgb_test_data = gray_test_gen.flow_from_directory(\n",
        "    test_dir, target_size=(img_size, img_size), color_mode='rgb',\n",
        "    batch_size=batch_size, class_mode='categorical', shuffle=False)\n",
        "\n",
        "num_classes = len(gray_train_data.class_indices)\n"
      ]
    },
    {
      "cell_type": "markdown",
      "source": [
        "## Basic CNN Model"
      ],
      "metadata": {
        "id": "ybqlxYtg8UrV"
      },
      "id": "ybqlxYtg8UrV"
    },
    {
      "cell_type": "code",
      "execution_count": null,
      "id": "c106e4e7",
      "metadata": {
        "id": "c106e4e7"
      },
      "outputs": [],
      "source": [
        "from tensorflow.keras.models import Sequential\n",
        "from tensorflow.keras.layers import Conv2D, MaxPooling2D, Flatten, Dense, Dropout\n",
        "from tensorflow.keras.optimizers import Adam\n",
        "\n",
        "cnn_model = Sequential([\n",
        "    Conv2D(32, (3,3), activation='relu', input_shape=(48, 48, 1)),\n",
        "    MaxPooling2D(2,2),\n",
        "    Conv2D(64, (3,3), activation='relu'),\n",
        "    MaxPooling2D(2,2),\n",
        "    Conv2D(128, (3,3), activation='relu'),\n",
        "    MaxPooling2D(2,2),\n",
        "    Flatten(),\n",
        "    Dense(256, activation='relu'),\n",
        "    Dropout(0.5),\n",
        "    Dense(num_classes, activation='softmax')\n",
        "])\n",
        "\n",
        "cnn_model.compile(optimizer=Adam(), loss='categorical_crossentropy', metrics=['accuracy'])\n",
        "cnn_history = cnn_model.fit(gray_train_data, epochs=10, validation_data=gray_test_data)\n",
        "\n",
        "#  Save model\n",
        "cnn_model.save(\"basic_cnn_model.h5\")\n"
      ]
    },
    {
      "cell_type": "markdown",
      "source": [
        "## EfficientNetB0 Model"
      ],
      "metadata": {
        "id": "p8Ig4oNf8Y8x"
      },
      "id": "p8Ig4oNf8Y8x"
    },
    {
      "cell_type": "code",
      "execution_count": null,
      "id": "c85b978f",
      "metadata": {
        "id": "c85b978f"
      },
      "outputs": [],
      "source": [
        "from tensorflow.keras.applications import EfficientNetB0\n",
        "from tensorflow.keras.layers import GlobalAveragePooling2D\n",
        "from tensorflow.keras.models import Model\n",
        "\n",
        "base = EfficientNetB0(include_top=False, input_shape=(48, 48, 3), weights='imagenet')\n",
        "x = base.output\n",
        "x = GlobalAveragePooling2D()(x)\n",
        "x = Dropout(0.5)(x)\n",
        "out = Dense(num_classes, activation='softmax')(x)\n",
        "eff_model = Model(inputs=base.input, outputs=out)\n",
        "\n",
        "eff_model.compile(optimizer=Adam(), loss='categorical_crossentropy', metrics=['accuracy'])\n",
        "eff_history = eff_model.fit(rgb_train_data, epochs=10, validation_data=rgb_test_data)\n",
        "\n",
        "# Save model\n",
        "eff_model.save(\"efficientnet_model.h5\")\n"
      ]
    },
    {
      "cell_type": "markdown",
      "source": [
        "## ResNet50 Model"
      ],
      "metadata": {
        "id": "PVET1Ef68eCO"
      },
      "id": "PVET1Ef68eCO"
    },
    {
      "cell_type": "code",
      "execution_count": null,
      "id": "11866be4",
      "metadata": {
        "id": "11866be4"
      },
      "outputs": [],
      "source": [
        "from tensorflow.keras.applications import ResNet50\n",
        "\n",
        "base = ResNet50(include_top=False, input_shape=(48, 48, 3), weights='imagenet')\n",
        "x = base.output\n",
        "x = GlobalAveragePooling2D()(x)\n",
        "x = Dropout(0.5)(x)\n",
        "out = Dense(num_classes, activation='softmax')(x)\n",
        "resnet_model = Model(inputs=base.input, outputs=out)\n",
        "\n",
        "resnet_model.compile(optimizer=Adam(), loss='categorical_crossentropy', metrics=['accuracy'])\n",
        "resnet_history = resnet_model.fit(rgb_train_data, epochs=10, validation_data=rgb_test_data)\n",
        "\n",
        "# Save model\n",
        "resnet_model.save(\"resnet50_model.h5\")\n"
      ]
    },
    {
      "cell_type": "markdown",
      "source": [
        "## MobileNetV2"
      ],
      "metadata": {
        "id": "qVk4fQiD8isN"
      },
      "id": "qVk4fQiD8isN"
    },
    {
      "cell_type": "code",
      "execution_count": null,
      "id": "272b4dce",
      "metadata": {
        "id": "272b4dce"
      },
      "outputs": [],
      "source": [
        "from tensorflow.keras.applications import MobileNetV2\n",
        "\n",
        "base = MobileNetV2(include_top=False, input_shape=(48, 48, 3), weights='imagenet')\n",
        "x = base.output\n",
        "x = GlobalAveragePooling2D()(x)\n",
        "x = Dropout(0.5)(x)\n",
        "out = Dense(num_classes, activation='softmax')(x)\n",
        "mobile_model = Model(inputs=base.input, outputs=out)\n",
        "\n",
        "mobile_model.compile(optimizer=Adam(), loss='categorical_crossentropy', metrics=['accuracy'])\n",
        "mobile_history = mobile_model.fit(rgb_train_data, epochs=10, validation_data=rgb_test_data)\n",
        "\n",
        "# Save model\n",
        "mobile_model.save(\"mobilenetv2_model.h5\")\n"
      ]
    },
    {
      "cell_type": "markdown",
      "source": [
        "## Evaluation of Models"
      ],
      "metadata": {
        "id": "eoSnc3zW87Qj"
      },
      "id": "eoSnc3zW87Qj"
    },
    {
      "cell_type": "code",
      "execution_count": null,
      "id": "0681684d",
      "metadata": {
        "id": "0681684d"
      },
      "outputs": [],
      "source": [
        "# Evaluate accuracy\n",
        "cnn_loss, cnn_acc = cnn_model.evaluate(gray_test_data)\n",
        "eff_loss, eff_acc = eff_model.evaluate(rgb_test_data)\n",
        "resnet_loss, resnet_acc = resnet_model.evaluate(rgb_test_data)\n",
        "mobile_loss, mobile_acc = mobile_model.evaluate(rgb_test_data)\n",
        "\n",
        "print(f\"CNN Accuracy: {cnn_acc:.2f}\")\n",
        "print(f\"EfficientNet Accuracy: {eff_acc:.2f}\")\n",
        "print(f\"ResNet50 Accuracy: {resnet_acc:.2f}\")\n",
        "print(f\"MobileNetV2 Accuracy: {mobile_acc:.2f}\")\n"
      ]
    },
    {
      "cell_type": "markdown",
      "source": [
        "## Visualisation"
      ],
      "metadata": {
        "id": "Am_JTueB9Np5"
      },
      "id": "Am_JTueB9Np5"
    },
    {
      "cell_type": "code",
      "source": [
        "# Evaluate confusion matrix\n",
        "\n",
        "import matplotlib.pyplot as plt\n",
        "import seaborn as sns\n",
        "from sklearn.metrics import confusion_matrix\n",
        "import numpy as np\n",
        "\n",
        "\n",
        "models = [cnn_model, eff_model, resnet_model, mobile_model]\n",
        "test_data = [gray_test_data, rgb_test_data, rgb_test_data, rgb_test_data]\n",
        "model_names = ['CNN', 'EfficientNetB0', 'ResNet50', 'MobileNetV2']\n",
        "\n",
        "fig, axes = plt.subplots(2, 2, figsize=(15, 10))\n",
        "axes = axes.ravel()\n",
        "\n",
        "for i, (model, data, name) in enumerate(zip(models, test_data, model_names)):\n",
        "    y_pred = model.predict(data)\n",
        "    y_pred_classes = np.argmax(y_pred, axis=1)\n",
        "    y_true = data.classes\n",
        "    cm = confusion_matrix(y_true, y_pred_classes)\n",
        "\n",
        "    sns.heatmap(cm, annot=True, fmt='d', cmap='Blues', ax=axes[i])\n",
        "    axes[i].set_title(f'Confusion Matrix - {name}')\n",
        "    axes[i].set_xlabel('Predicted Label')\n",
        "    axes[i].set_ylabel('True Label')\n",
        "\n",
        "plt.tight_layout()\n",
        "plt.show()"
      ],
      "metadata": {
        "id": "ADLqTg9k9QHc"
      },
      "id": "ADLqTg9k9QHc",
      "execution_count": null,
      "outputs": []
    },
    {
      "cell_type": "code",
      "source": [
        "# Evaluate classification report\n",
        "\n",
        "from sklearn.metrics import classification_report\n",
        "\n",
        "for model, data, name in zip(models, test_data, model_names):\n",
        "    y_pred = model.predict(data)\n",
        "    y_pred_classes = np.argmax(y_pred, axis=1)\n",
        "    y_true = data.classes\n",
        "    report = classification_report(y_true, y_pred_classes, target_names=data.class_indices.keys())\n",
        "    print(f\"Classification Report - {name}:\\n{report}\\n\")"
      ],
      "metadata": {
        "id": "dmhNzreH-t64"
      },
      "id": "dmhNzreH-t64",
      "execution_count": null,
      "outputs": []
    }
  ],
  "metadata": {
    "colab": {
      "provenance": [],
      "include_colab_link": true
    },
    "language_info": {
      "name": "python"
    },
    "kernelspec": {
      "name": "python3",
      "display_name": "Python 3"
    }
  },
  "nbformat": 4,
  "nbformat_minor": 5
}